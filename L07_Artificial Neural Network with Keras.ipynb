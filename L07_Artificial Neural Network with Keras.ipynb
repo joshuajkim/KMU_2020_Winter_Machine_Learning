{
 "cells": [
  {
   "cell_type": "code",
   "execution_count": 1,
   "metadata": {},
   "outputs": [],
   "source": [
    "from tensorflow.keras.datasets import mnist"
   ]
  },
  {
   "cell_type": "code",
   "execution_count": 2,
   "metadata": {},
   "outputs": [
    {
     "name": "stdout",
     "output_type": "stream",
     "text": [
      "Downloading data from https://storage.googleapis.com/tensorflow/tf-keras-datasets/mnist.npz\n",
      "11493376/11490434 [==============================] - 1s 0us/step\n"
     ]
    }
   ],
   "source": [
    "(train_input, train_target), (test_input, test_target) = mnist.load_data()"
   ]
  },
  {
   "cell_type": "code",
   "execution_count": 4,
   "metadata": {},
   "outputs": [
    {
     "name": "stdout",
     "output_type": "stream",
     "text": [
      "(60000, 28, 28) (60000,)\n",
      "(10000, 28, 28) (10000,)\n"
     ]
    }
   ],
   "source": [
    "print(train_input.shape, train_target.shape)\n",
    "print(test_input.shape, test_target.shape)"
   ]
  },
  {
   "cell_type": "code",
   "execution_count": 5,
   "metadata": {},
   "outputs": [
    {
     "data": {
      "text/plain": [
       "''"
      ]
     },
     "execution_count": 5,
     "metadata": {},
     "output_type": "execute_result"
    },
    {
     "data": {
      "image/png": "[encoded data removed]",
      "text/plain": [
       "<Figure size 432x288 with 1 Axes>"
      ]
     },
     "metadata": {
      "needs_background": "light"
     },
     "output_type": "display_data"
    }
   ],
   "source": [
    "import matplotlib.pyplot as plt\n",
    "\n",
    "digit = train_input[4]\n",
    "plt.imshow(digit, cmap='gray_r')\n",
    ";"
   ]
  },
  {
   "cell_type": "code",
   "execution_count": 6,
   "metadata": {},
   "outputs": [],
   "source": [
    "train_input_2d = train_input.astype('float32').reshape(-1, 28 * 28) / 255\n",
    "test_input_2d = test_input.astype('float32').reshape(-1, 28 * 28) / 255"
   ]
  },
  {
   "cell_type": "code",
   "execution_count": 13,
   "metadata": {},
   "outputs": [],
   "source": [
    "from tensorflow.keras.utils import to_categorical\n",
    "\n",
    "train_target_categorical = to_categorical(train_target)\n",
    "test_target_categorical = to_categorical(test_target)"
   ]
  },
  {
   "cell_type": "code",
   "execution_count": 17,
   "metadata": {},
   "outputs": [
    {
     "name": "stdout",
     "output_type": "stream",
     "text": [
      "Model: \"sequential\"\n",
      "_________________________________________________________________\n",
      "Layer (type)                 Output Shape              Param #   \n",
      "=================================================================\n",
      "dense (Dense)                (None, 512)               401920    \n",
      "_________________________________________________________________\n",
      "dense_1 (Dense)              (None, 256)               131328    \n",
      "_________________________________________________________________\n",
      "dense_2 (Dense)              (None, 10)                2570      \n",
      "=================================================================\n",
      "Total params: 535,818\n",
      "Trainable params: 535,818\n",
      "Non-trainable params: 0\n",
      "_________________________________________________________________\n"
     ]
    }
   ],
   "source": [
    "from tensorflow.keras import models\n",
    "from tensorflow.keras.layers import Dense\n",
    "\n",
    "model = models.Sequential()\n",
    "model.add(Dense(512, activation='relu', input_shape=(28 * 28, )))\n",
    "model.add(Dense(256, activation='relu'))\n",
    "model.add(Dense(10, activation='softmax'))\n",
    "model.summary()"
   ]
  },
  {
   "cell_type": "code",
   "execution_count": 19,
   "metadata": {},
   "outputs": [
    {
     "name": "stdout",
     "output_type": "stream",
     "text": [
      "Epoch 1/10\n",
      "375/375 [==============================] - 5s 12ms/step - loss: 0.4554 - accuracy: 0.8584 - val_loss: 0.1197 - val_accuracy: 0.9633\n",
      "Epoch 2/10\n",
      "375/375 [==============================] - 4s 11ms/step - loss: 0.0994 - accuracy: 0.9715 - val_loss: 0.1009 - val_accuracy: 0.9696\n",
      "Epoch 3/10\n",
      "375/375 [==============================] - 4s 12ms/step - loss: 0.0568 - accuracy: 0.9826 - val_loss: 0.0961 - val_accuracy: 0.9724\n",
      "Epoch 4/10\n",
      "375/375 [==============================] - 4s 12ms/step - loss: 0.0413 - accuracy: 0.9865 - val_loss: 0.1025 - val_accuracy: 0.9748\n",
      "Epoch 5/10\n",
      "375/375 [==============================] - 4s 12ms/step - loss: 0.0275 - accuracy: 0.9921 - val_loss: 0.1150 - val_accuracy: 0.9697\n",
      "Epoch 6/10\n",
      "375/375 [==============================] - 4s 12ms/step - loss: 0.0235 - accuracy: 0.9927 - val_loss: 0.1088 - val_accuracy: 0.9760\n",
      "Epoch 7/10\n",
      "375/375 [==============================] - 4s 12ms/step - loss: 0.0172 - accuracy: 0.9941 - val_loss: 0.1337 - val_accuracy: 0.9728\n",
      "Epoch 8/10\n",
      "375/375 [==============================] - 4s 12ms/step - loss: 0.0126 - accuracy: 0.9961 - val_loss: 0.1164 - val_accuracy: 0.9791\n",
      "Epoch 9/10\n",
      "375/375 [==============================] - 4s 12ms/step - loss: 0.0107 - accuracy: 0.9966 - val_loss: 0.1266 - val_accuracy: 0.9783\n",
      "Epoch 10/10\n",
      "375/375 [==============================] - 5s 12ms/step - loss: 0.0096 - accuracy: 0.9970 - val_loss: 0.1140 - val_accuracy: 0.9821\n"
     ]
    },
    {
     "data": {
      "text/plain": [
       "<tensorflow.python.keras.callbacks.History at 0x219b1633370>"
      ]
     },
     "execution_count": 19,
     "metadata": {},
     "output_type": "execute_result"
    }
   ],
   "source": [
    "model.compile(optimizer='rmsprop', loss='categorical_crossentropy', metrics=['accuracy'])\n",
    "model.fit(train_input_2d, train_target_categorical, epochs=10, batch_size=128, validation_split=0.2)"
   ]
  },
  {
   "cell_type": "code",
   "execution_count": 20,
   "metadata": {},
   "outputs": [
    {
     "name": "stdout",
     "output_type": "stream",
     "text": [
      "313/313 [==============================] - 0s 1ms/step - loss: 0.1004 - accuracy: 0.9818\n",
      "0.9818000197410583\n"
     ]
    }
   ],
   "source": [
    "test_loss, test_acc = model.evaluate(test_input_2d, test_target_categorical)\n",
    "print(test_acc)"
   ]
  }
 ],
 "metadata": {
  "kernelspec": {
   "display_name": "Python 3",
   "language": "python",
   "name": "python3"
  },
  "language_info": {
   "codemirror_mode": {
    "name": "ipython",
    "version": 3
   },
   "file_extension": ".py",
   "mimetype": "text/x-python",
   "name": "python",
   "nbconvert_exporter": "python",
   "pygments_lexer": "ipython3",
   "version": "3.8.5"
  }
 },
 "nbformat": 4,
 "nbformat_minor": 4
}
